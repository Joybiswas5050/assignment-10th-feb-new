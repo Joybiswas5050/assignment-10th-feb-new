{
 "cells": [
  {
   "cell_type": "code",
   "execution_count": null,
   "id": "b8f4eef2-7c8a-4abd-9d3e-3ae2eeb156bb",
   "metadata": {},
   "outputs": [],
   "source": [
    "In Python, the built-in function used to open a file is open(). It takes two arguments, the first argument is the name of the file that you want to open, and the second argument is the mode in which you want to open the file.\n",
    "\n",
    "The different modes of opening a file in Python are:\n",
    "\n",
    "Read mode (\"r\"): This is the default mode in which a file is opened. In this mode, you can only read the contents of the file, but you cannot modify or write new data to the file. If the file doesn't exist, it will raise a \"FileNotFoundError\".\n",
    "\n",
    "Write mode (\"w\"): In this mode, you can write new data to the file, and if the file doesn't exist, Python will create a new file. If the file already exists, the contents of the file will be erased before writing new data to the file.\n",
    "\n",
    "Append mode (\"a\"): In this mode, you can add new data to the end of the file, and if the file doesn't exist, Python will create a new file. The existing data in the file will not be erased.\n",
    "\n",
    "Binary mode (\"b\"): This mode is used to open a file in binary mode. This is useful when you are working with non-text files such as images, audio files, etc. You can use this mode along with the other modes.\n",
    "\n",
    "Read and Write mode (\"r+\"): In this mode, you can read and write data to the file. If the file doesn't exist, it will raise a \"FileNotFoundError\".\n",
    "\n",
    "Write and Read mode (\"w+\"): In this mode, you can read and write data to the file. If the file doesn't exist, Python will create a new file. If the file already exists, the contents of the file will be erased before writing new data to the file.\n",
    "\n",
    "Append and Read mode (\"a+\"): In this mode, you can read and add new data to the end of the file. If the file doesn't exist, Python will create a new file. The existing data in the file will not be erased.\n",
    "\n",
    "You can also use the \"x\" mode, which is used to create a new file and raise a \"FileExistsError\" if the file already exists.\n",
    "\n",
    "To open a file in a specific mode, you need to pass the mode as the second argument to the open() function, like this"
   ]
  },
  {
   "cell_type": "code",
   "execution_count": null,
   "id": "ff5272c8-1d78-45b8-b206-7dc01dd85a9a",
   "metadata": {},
   "outputs": [],
   "source": [
    "###question no 2"
   ]
  },
  {
   "cell_type": "code",
   "execution_count": null,
   "id": "ef2fa9ee-41ed-4ff0-ada5-4508e76dc069",
   "metadata": {},
   "outputs": [],
   "source": [
    "The close() function is used in programming to release any system resources or connections that were opened by the program. It is particularly important to close files because files are a limited resource and leaving them open can lead to issues such as running out of file descriptors, corrupted data, and security vulnerabilities.\n",
    "\n",
    "When you open a file in your program, the operating system assigns a file descriptor to that file, which is a unique identifier that the program uses to access the file. If you do not close the file when you are done using it, the file descriptor remains allocated, which means it is not available for other programs or processes to use. This can cause resource exhaustion on the system and lead to poor performance or crashes.\n",
    "\n",
    "Closing a file also ensures that any data that was buffered in memory is flushed to the file before it is closed, so that you don't lose any data that you wrote to the file but that was not yet physically written to disk.\n",
    "\n",
    "In summary, closing files properly with the close() function is important to free up system resources, prevent resource exhaustion, and ensure that any data that was written to the file is safely stored on disk."
   ]
  },
  {
   "cell_type": "code",
   "execution_count": null,
   "id": "a390560b-8398-4a6b-9ee6-a09819c53f9a",
   "metadata": {},
   "outputs": [],
   "source": [
    "###question no 3"
   ]
  },
  {
   "cell_type": "code",
   "execution_count": 1,
   "id": "e721d2fe-6dac-4e00-867c-3b195f900187",
   "metadata": {},
   "outputs": [
    {
     "name": "stdout",
     "output_type": "stream",
     "text": [
      "I want to become a data scientist\n"
     ]
    }
   ],
   "source": [
    "# open file in write mode\n",
    "file = open(\"my_file.txt\", \"w\")\n",
    "\n",
    "# write to the file\n",
    "file.write(\"I want to become a data scientist\")\n",
    "\n",
    "# close the file\n",
    "file.close()\n",
    "\n",
    "# open file in read mode\n",
    "file = open(\"my_file.txt\", \"r\")\n",
    "\n",
    "# read the contents of the file\n",
    "content = file.read()\n",
    "\n",
    "# print the contents of the file\n",
    "print(content)\n",
    "\n",
    "# close the file\n",
    "file.close()\n"
   ]
  },
  {
   "cell_type": "code",
   "execution_count": null,
   "id": "7cc2f81b-65cc-4dc9-a085-fb1f0aade9b7",
   "metadata": {},
   "outputs": [],
   "source": [
    "In Python, the read(), readline(), and readlines() methods are used for reading data from a file. Here's how they work:\n",
    "\n",
    "read(): The read() method reads the entire contents of a file and returns it as a string. It takes an optional argument that specifies the number of bytes to read. If no argument is provided, it will read the entire file."
   ]
  },
  {
   "cell_type": "code",
   "execution_count": null,
   "id": "c46d6b67-8fde-4833-9ccb-f154a77d57e6",
   "metadata": {},
   "outputs": [],
   "source": [
    "read(), readline(), and readlines() are three built-in methods in Python used for reading data from a file. Here is an explanation of each method and an example of how to use them in Python:\n",
    "\n",
    "read(): The read() method reads the entire content of a file as a single string. It can be used with no arguments or with a size argument, which specifies the number of bytes to read."
   ]
  },
  {
   "cell_type": "code",
   "execution_count": null,
   "id": "41497a51-8518-41f0-b04c-c338e16360ce",
   "metadata": {},
   "outputs": [],
   "source": [
    "# Open the file in read mode\n",
    "file = open('example.txt', 'r')\n",
    "\n",
    "# Read the entire contents of the file\n",
    "contents = file.read()\n",
    "print(contents)\n",
    "\n",
    "# Read a single line from the file\n",
    "line = file.readline()\n",
    "print(line)\n",
    "\n",
    "# Read all the lines of the file and store them in a list\n",
    "lines = file.readlines()\n",
    "print(lines)\n",
    "\n",
    "# Close the file\n",
    "file.close()\n"
   ]
  },
  {
   "cell_type": "code",
   "execution_count": 4,
   "id": "3c919567-3d6e-42cd-8d41-ff889e9d8c54",
   "metadata": {},
   "outputs": [],
   "source": [
    "###question no 5"
   ]
  },
  {
   "cell_type": "code",
   "execution_count": null,
   "id": "48d00e7d-fcd4-4b39-9a96-6045c9211e87",
   "metadata": {},
   "outputs": [],
   "source": [
    "The with statement in Python provides a way to execute code that works with a particular resource, such as a file or a network connection, in a way that ensures the resource is properly managed, even if an error occurs during processing. This is done using the context manager protocol, which provides a standard way to define and manage resources in Python.\n",
    "\n",
    "The open() function is used to open a file in Python. When used in combination with the with statement, open() can be used to manage a file resource in a safe and reliable way. The with statement ensures that the file is properly closed after it has been used, regardless of whether an error occurred during processing.\n",
    "\n"
   ]
  },
  {
   "cell_type": "code",
   "execution_count": null,
   "id": "13ce692f-3991-4d5c-a4e1-8f9f78390f96",
   "metadata": {},
   "outputs": [],
   "source": [
    "# Open a file for writing\n",
    "file = open(\"example.txt\", \"w\")\n",
    "\n",
    "# Write a string to the file\n",
    "file.write(\"Hello, world!\")\n",
    "\n",
    "# Close the file\n",
    "file.close()\n"
   ]
  },
  {
   "cell_type": "code",
   "execution_count": null,
   "id": "76072b23-676a-4e2b-99e2-85e002e78e81",
   "metadata": {},
   "outputs": [],
   "source": [
    "# Open a file for writing\n",
    "file = open(\"example.txt\", \"w\")\n",
    "\n",
    "# Write a list of strings to the file\n",
    "lines = [\"Line 1\\n\", \"Line 2\\n\", \"Line 3\\n\"]\n",
    "file.writelines(lines)\n",
    "\n",
    "# Close the file\n",
    "file.close()\n"
   ]
  },
  {
   "cell_type": "code",
   "execution_count": 6,
   "id": "78d4e1a0-5ed1-4fa2-b7dc-3b8d8e072350",
   "metadata": {},
   "outputs": [],
   "source": [
    "###question no 6"
   ]
  },
  {
   "cell_type": "code",
   "execution_count": null,
   "id": "53907172-5345-4703-80ff-6619cb96101d",
   "metadata": {},
   "outputs": [],
   "source": [
    "In Python, both write() and writelines() are methods that are used to write data to a file object.\n",
    "\n",
    "The write() method is used to write a single string of characters to a file. It takes a single argument which is the string to be written to the file. If the file already exists, the write() method overwrites the existing content. If the file does not exist, it creates a new file with the given name and writes the content to it."
   ]
  },
  {
   "cell_type": "code",
   "execution_count": null,
   "id": "3e0954b6-9a23-47ff-963d-f7ddee8156c9",
   "metadata": {},
   "outputs": [],
   "source": []
  }
 ],
 "metadata": {
  "kernelspec": {
   "display_name": "Python 3 (ipykernel)",
   "language": "python",
   "name": "python3"
  },
  "language_info": {
   "codemirror_mode": {
    "name": "ipython",
    "version": 3
   },
   "file_extension": ".py",
   "mimetype": "text/x-python",
   "name": "python",
   "nbconvert_exporter": "python",
   "pygments_lexer": "ipython3",
   "version": "3.10.8"
  }
 },
 "nbformat": 4,
 "nbformat_minor": 5
}
